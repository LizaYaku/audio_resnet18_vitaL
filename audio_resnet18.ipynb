{
 "cells": [
  {
   "cell_type": "markdown",
   "id": "23ab1a2e",
   "metadata": {},
   "source": [
    "Notebook version of test.py for testing how to pass stimuli through and get resps from audio ResNet-18"
   ]
  },
  {
   "cell_type": "code",
   "execution_count": 1,
   "id": "c200657d",
   "metadata": {},
   "outputs": [],
   "source": [
    "# generic imports - from your venv\n",
    "import os\n",
    "import torch\n",
    "from torch.optim import *\n",
    "import torchvision\n",
    "from torchvision.transforms import *\n",
    "import torch.nn as nn\n",
    "from torch.autograd import Variable\n",
    "from torch.utils.data import Dataset, DataLoader\n",
    "from types import SimpleNamespace\n",
    "import numpy as np\n",
    "import json\n",
    "import argparse\n",
    "import csv\n",
    "\n",
    "# custom imports - from the repository\n",
    "from utils import hook_fn, run_inference\n",
    "from model import AVENet\n",
    "from datasets import GetAudioVideoDataset"
   ]
  },
  {
   "cell_type": "code",
   "execution_count": 4,
   "id": "7d2c8f60",
   "metadata": {},
   "outputs": [],
   "source": [
    "# arguments\n",
    "args = SimpleNamespace(\n",
    "    data_path = '/home/eyakub/scratch/test', # directory to the audios you want the model to respond to, \n",
    "    summaries = '/home/eyakub/scratch/H.pth.tar', # path to saved weights of trained model H from Chen et al., 2020\n",
    "    pool = \"avgpool\", # the pooling function for model H\n",
    "    batch_size = 32,\n",
    "    n_classes=309,\n",
    "    model_depth = 18,\n",
    "    resnet_shortcut = 'B'\n",
    "    )"
   ]
  },
  {
   "cell_type": "code",
   "execution_count": 5,
   "id": "8ab60078-3e2e-4b1d-b1ce-7b44a259edc8",
   "metadata": {},
   "outputs": [],
   "source": [
    "# init network\n",
    "os.environ[\"CUDA_VISIBLE_DEVICES\"]=\"0\"\n",
    "model= AVENet(args) \n",
    "device = torch.device(\"cuda:0\" if torch.cuda.is_available() else \"cpu\")\n",
    "model = model.to(device)"
   ]
  },
  {
   "cell_type": "code",
   "execution_count": 6,
   "id": "e43619a7-2df6-4ac6-bc63-361d8ec7579c",
   "metadata": {},
   "outputs": [
    {
     "name": "stdout",
     "output_type": "stream",
     "text": [
      "loaded pretrained model.\n"
     ]
    }
   ],
   "source": [
    "# load pretrained models\n",
    "checkpoint = torch.load(args.summaries, map_location=torch.device('cpu'))\n",
    "model.load_state_dict(checkpoint['model_state_dict'])\n",
    "model.to(device)\n",
    "print('loaded pretrained model.')"
   ]
  },
  {
   "cell_type": "code",
   "execution_count": 7,
   "id": "7aba1255-ce22-423c-8de2-61acf8616fb6",
   "metadata": {},
   "outputs": [
    {
     "name": "stdout",
     "output_type": "stream",
     "text": [
      "['audio0.wav', 'audio1.wav', 'audio2.wav', 'audio3.wav', 'audio10.wav', 'audio30.wav']\n",
      "6\n",
      "# of audio files = 6 \n",
      "Loaded dataloader.\n"
     ]
    },
    {
     "name": "stderr",
     "output_type": "stream",
     "text": [
      "/home/eyakub/.local/lib/python3.11/site-packages/torch/utils/data/dataloader.py:557: UserWarning: This DataLoader will create 16 worker processes in total. Our suggested max number of worker in current system is 10, which is smaller than what this DataLoader is going to create. Please be aware that excessive worker creation might get DataLoader running slow or even freeze, lower the worker number to avoid potential slowness/freeze if necessary.\n",
      "  warnings.warn(_create_warning_msg(\n"
     ]
    }
   ],
   "source": [
    "# create dataloader\n",
    "testdataset = GetAudioVideoDataset(args,  mode='test')\n",
    "testdataloader = DataLoader(testdataset, batch_size=args.batch_size, shuffle=False, num_workers = 16)\n",
    "print(\"Loaded dataloader.\")"
   ]
  },
  {
   "cell_type": "code",
   "execution_count": 8,
   "id": "23e87936",
   "metadata": {},
   "outputs": [
    {
     "name": "stdout",
     "output_type": "stream",
     "text": [
      "getting item 0\n",
      "getting item 1\n",
      "getting item 2\n",
      "getting item 3\n",
      "getting item 4\n",
      "getting item 5\n"
     ]
    }
   ],
   "source": [
    "# actually running the model and getting features from our layer of choice \n",
    "model.eval()\n",
    "\n",
    "hook = model.audnet.layer4[1].conv2.register_forward_hook(hook_fn)\n",
    "output_features = run_inference(model, testdataloader, device=device)\n",
    "hook.remove()"
   ]
  },
  {
   "cell_type": "code",
   "execution_count": 9,
   "id": "63f49fe2-4242-443a-a01c-2f89b11b9ca2",
   "metadata": {},
   "outputs": [
    {
     "data": {
      "text/plain": [
       "32"
      ]
     },
     "execution_count": 9,
     "metadata": {},
     "output_type": "execute_result"
    }
   ],
   "source": [
    "len(output_features[0][0][0][0])"
   ]
  },
  {
   "cell_type": "code",
   "execution_count": 10,
   "id": "b8d2923b-400b-4e16-b946-1333a0fe90b1",
   "metadata": {},
   "outputs": [],
   "source": [
    "output_features = torch.cat(output_features, dim=0).numpy()"
   ]
  },
  {
   "cell_type": "code",
   "execution_count": 11,
   "id": "80d3f0f6-75b3-401b-8420-5b5d376cc38f",
   "metadata": {},
   "outputs": [
    {
     "data": {
      "text/plain": [
       "(6, 512, 9, 32)"
      ]
     },
     "execution_count": 11,
     "metadata": {},
     "output_type": "execute_result"
    }
   ],
   "source": [
    "output_features.shape"
   ]
  },
  {
   "cell_type": "code",
   "execution_count": 12,
   "id": "a02c14f1-bc50-41fe-a3a6-f2d79efebd67",
   "metadata": {},
   "outputs": [
    {
     "data": {
      "text/plain": [
       "(array([5.2000e+01, 6.6300e+02, 7.3050e+03, 5.2860e+04, 7.1617e+04,\n",
       "        1.1936e+04, 2.2860e+03, 5.6900e+02, 1.4800e+02, 2.0000e+01]),\n",
       " array([-0.37985516, -0.28598657, -0.19211797, -0.09824939, -0.0043808 ,\n",
       "         0.08948779,  0.18335637,  0.27722496,  0.37109357,  0.46496215,\n",
       "         0.55883074]),\n",
       " <BarContainer object of 10 artists>)"
      ]
     },
     "execution_count": 12,
     "metadata": {},
     "output_type": "execute_result"
    },
    {
     "data": {
      "image/png": "[encoded data removed]",
      "text/plain": [
       "<Figure size 640x480 with 1 Axes>"
      ]
     },
     "metadata": {},
     "output_type": "display_data"
    }
   ],
   "source": [
    "import matplotlib.pyplot as plt\n",
    "plt.hist(np.nanmean(np.reshape(output_features,(6,-1)),axis=0))"
   ]
  },
  {
   "cell_type": "code",
   "execution_count": null,
   "id": "86b6888d-45ba-45f3-8e01-b53295be1372",
   "metadata": {},
   "outputs": [],
   "source": []
  }
 ],
 "metadata": {
  "kernelspec": {
   "display_name": "Python 3 (ipykernel)",
   "language": "python",
   "name": "python3"
  },
  "language_info": {
   "codemirror_mode": {
    "name": "ipython",
    "version": 3
   },
   "file_extension": ".py",
   "mimetype": "text/x-python",
   "name": "python",
   "nbconvert_exporter": "python",
   "pygments_lexer": "ipython3",
   "version": "3.11.5"
  }
 },
 "nbformat": 4,
 "nbformat_minor": 5
}
